{
 "cells": [
  {
   "cell_type": "code",
   "execution_count": 17,
   "id": "848d1c45-c715-4aa4-a8e3-80ca09ae2626",
   "metadata": {},
   "outputs": [],
   "source": [
    "import nltk\n",
    "import random\n",
    "import pandas as pd\n",
    "from nltk.corpus import movie_reviews\n",
    "from nltk.classify import NaiveBayesClassifier\n",
    "from nltk.classify.util import accuracy"
   ]
  },
  {
   "cell_type": "code",
   "execution_count": 19,
   "id": "519c157a-bb91-47aa-8518-fd18b748565b",
   "metadata": {},
   "outputs": [
    {
     "name": "stderr",
     "output_type": "stream",
     "text": [
      "[nltk_data] Downloading package movie_reviews to\n",
      "[nltk_data]     C:\\Users\\Shrushti\\AppData\\Roaming\\nltk_data...\n",
      "[nltk_data]   Package movie_reviews is already up-to-date!\n"
     ]
    }
   ],
   "source": [
    "# Download and Load Dataset\n",
    "nltk.download('movie_reviews')\n",
    "\n",
    "# Load data\n",
    "documents = [(list(movie_reviews.words(fileid)), category)\n",
    "             for category in movie_reviews.categories()\n",
    "             for fileid in movie_reviews.fileids(category)]\n",
    "\n",
    "# Shuffle data\n",
    "random.shuffle(documents)\n"
   ]
  },
  {
   "cell_type": "code",
   "execution_count": 21,
   "id": "78f0193c-37d9-458c-bdc9-2ed450fdaad6",
   "metadata": {},
   "outputs": [],
   "source": [
    "# Text Preprocessing\n",
    "# Create a frequency distribution of all words\n",
    "all_words = nltk.FreqDist(w.lower() for w in movie_reviews.words())\n",
    "word_features = list(all_words)[:2000]  # top 2000 words\n",
    "\n",
    "def document_features(doc):\n",
    "    words = set(doc)\n",
    "    features = {}\n",
    "    for word in word_features:\n",
    "        features[f'contains({word})'] = (word in words)\n",
    "    return features\n",
    "\n",
    "featuresets = [(document_features(d), c) for (d, c) in documents]\n"
   ]
  },
  {
   "cell_type": "code",
   "execution_count": 23,
   "id": "21921b47-f7c9-454a-b2b1-74134b468fa6",
   "metadata": {
    "scrolled": true
   },
   "outputs": [
    {
     "name": "stdout",
     "output_type": "stream",
     "text": [
      "Accuracy: 0.88\n",
      "Most Informative Features\n",
      "   contains(outstanding) = True              pos : neg    =     13.3 : 1.0\n",
      "         contains(mulan) = True              pos : neg    =      7.7 : 1.0\n",
      "        contains(seagal) = True              neg : pos    =      7.4 : 1.0\n",
      "   contains(wonderfully) = True              pos : neg    =      6.8 : 1.0\n",
      "         contains(damon) = True              pos : neg    =      5.9 : 1.0\n",
      "         contains(flynt) = True              pos : neg    =      5.7 : 1.0\n",
      "         contains(awful) = True              neg : pos    =      5.7 : 1.0\n",
      "        contains(wasted) = True              neg : pos    =      5.5 : 1.0\n",
      "    contains(ridiculous) = True              neg : pos    =      5.2 : 1.0\n",
      "          contains(lame) = True              neg : pos    =      5.1 : 1.0\n"
     ]
    }
   ],
   "source": [
    "# Train and Test the Model\n",
    "# Train-Test Split\n",
    "train_set, test_set = featuresets[100:], featuresets[:100]\n",
    "classifier = NaiveBayesClassifier.train(train_set)\n",
    "\n",
    "# Evaluate\n",
    "print(\"Accuracy:\", accuracy(classifier, test_set))\n",
    "classifier.show_most_informative_features(10)"
   ]
  }
 ],
 "metadata": {
  "kernelspec": {
   "display_name": "Python 3 (ipykernel)",
   "language": "python",
   "name": "python3"
  },
  "language_info": {
   "codemirror_mode": {
    "name": "ipython",
    "version": 3
   },
   "file_extension": ".py",
   "mimetype": "text/x-python",
   "name": "python",
   "nbconvert_exporter": "python",
   "pygments_lexer": "ipython3",
   "version": "3.12.4"
  }
 },
 "nbformat": 4,
 "nbformat_minor": 5
}
